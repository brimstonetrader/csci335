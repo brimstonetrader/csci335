{
 "cells": [
  {
   "cell_type": "code",
   "execution_count": null,
   "metadata": {},
   "outputs": [],
   "source": [
    "data = open(\".txt\", \"r\")\n",
    "adjacency_list = []\n",
    "for line in data.readlines():\n",
    "    thisedgestr = edge.strip('\\n')\n",
    "    thisedgelist = list(map(str, thisedgestr.split(' ')))\n",
    "    adjacency_list.append(thisedgelist)\n",
    "data.close()\n",
    "graph = Graph()\n",
    "hparg = Graph()\n",
    "vertices = set()\n",
    "for line in adjacency_list:\n",
    "    graph.addEdge(line[0], line[1])\n",
    "    hparg.addEdge(line[1], line[0])\n",
    "    vertices.add(line[0])\n",
    "    vertices.add(line[1])\n",
    "result_type, result_data = willItDAG(graph, hparg, vertices, v, graph.OutDegreeZeroNodes(v))\n",
    "output = filename + \".out\"\n",
    "with open(output, \"w\") as output_file:\n",
    "    output_file.write(result_type + \"\\n\")\n",
    "    if result_type == \"cycle\":\n",
    "        for vertex in result_data:\n",
    "            output_file.write(vertex + \"\\n\")\n",
    "    else:\n",
    "        for vertex in result_data:\n",
    "            output_file.write(vertex + \"\\n\")\n"
   ]
  }
 ],
 "metadata": {
  "language_info": {
   "name": "python"
  }
 },
 "nbformat": 4,
 "nbformat_minor": 2
}
